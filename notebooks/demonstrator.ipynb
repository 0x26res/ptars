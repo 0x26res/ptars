{
 "cells": [
  {
   "cell_type": "code",
   "execution_count": null,
   "id": "0",
   "metadata": {},
   "outputs": [],
   "source": [
    "%cd ../"
   ]
  },
  {
   "cell_type": "code",
   "execution_count": null,
   "id": "1",
   "metadata": {},
   "outputs": [],
   "source": [
    "import random\n",
    "import secrets\n",
    "\n",
    "import protarrow\n",
    "import ptars\n",
    "\n",
    "from ptars_protos.benchmark_pb2 import BenchmarkMessage"
   ]
  },
  {
   "cell_type": "code",
   "execution_count": null,
   "id": "2",
   "metadata": {},
   "outputs": [],
   "source": [
    "pool = ptars.HandlerPool()\n",
    "handler = pool.get_for_message(BenchmarkMessage.DESCRIPTOR)"
   ]
  },
  {
   "cell_type": "code",
   "execution_count": null,
   "id": "3",
   "metadata": {},
   "outputs": [],
   "source": [
    "MESSAGE_COUNT = 10_000\n",
    "STRING_SIZE = 10\n",
    "MIN_INT = -2147483648\n",
    "MAX_INT = 2147483647"
   ]
  },
  {
   "cell_type": "code",
   "execution_count": null,
   "id": "4",
   "metadata": {},
   "outputs": [],
   "source": [
    "messages = [\n",
    "    BenchmarkMessage(\n",
    "        query=secrets.token_urlsafe(random.randint(0, STRING_SIZE)),\n",
    "        page_number=random.randint(MIN_INT, MAX_INT),\n",
    "        result_per_page=random.randint(MIN_INT, MAX_INT),\n",
    "    )\n",
    "    for _ in range(MESSAGE_COUNT)\n",
    "]\n",
    "\n",
    "payloads = [m.SerializeToString() for m in messages]"
   ]
  },
  {
   "cell_type": "code",
   "execution_count": null,
   "id": "5",
   "metadata": {},
   "outputs": [],
   "source": [
    "%%timeit\n",
    "protarrow.messages_to_record_batch(\n",
    "    [BenchmarkMessage.FromString(p) for p in payloads],\n",
    "    BenchmarkMessage,\n",
    ")"
   ]
  },
  {
   "cell_type": "code",
   "execution_count": null,
   "id": "6",
   "metadata": {},
   "outputs": [],
   "source": [
    "%%timeit\n",
    "handler.list_to_record_batch(payloads)"
   ]
  },
  {
   "cell_type": "code",
   "execution_count": null,
   "id": "7",
   "metadata": {},
   "outputs": [],
   "source": [
    "record_batch = handler.list_to_record_batch(payloads)"
   ]
  },
  {
   "cell_type": "code",
   "execution_count": null,
   "id": "8",
   "metadata": {},
   "outputs": [],
   "source": [
    "%%timeit\n",
    "handler.record_batch_to_array(record_batch)"
   ]
  },
  {
   "cell_type": "code",
   "execution_count": null,
   "id": "9",
   "metadata": {},
   "outputs": [],
   "source": [
    "%%timeit\n",
    "[\n",
    "    m.SerializeToString()\n",
    "    for m in protarrow.record_batch_to_messages(record_batch, BenchmarkMessage)\n",
    "]"
   ]
  }
 ],
 "metadata": {
  "kernelspec": {
   "display_name": "Python 3 (ipykernel)",
   "language": "python",
   "name": "python3"
  },
  "language_info": {
   "codemirror_mode": {
    "name": "ipython",
    "version": 3
   },
   "file_extension": ".py",
   "mimetype": "text/x-python",
   "name": "python",
   "nbconvert_exporter": "python",
   "pygments_lexer": "ipython3",
   "version": "3.11.6"
  }
 },
 "nbformat": 4,
 "nbformat_minor": 5
}
